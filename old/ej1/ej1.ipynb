{
 "cells": [
  {
   "cell_type": "code",
   "execution_count": 41,
   "metadata": {
    "collapsed": false
   },
   "outputs": [
    {
     "name": "stdout",
     "output_type": "stream",
     "text": [
      "[ [1,2,3,4,5], [7,8,9,10] ]\n"
     ]
    }
   ],
   "source": [
    "P = input()"
   ]
  },
  {
   "cell_type": "code",
   "execution_count": 14,
   "metadata": {
    "collapsed": false
   },
   "outputs": [
    {
     "name": "stdout",
     "output_type": "stream",
     "text": [
      "[[1, 2, 3, 4, 5], [7, 8, 9, 10]]\n"
     ]
    }
   ],
   "source": [
    "print P"
   ]
  },
  {
   "cell_type": "code",
   "execution_count": null,
   "metadata": {
    "collapsed": false
   },
   "outputs": [],
   "source": []
  },
  {
   "cell_type": "code",
   "execution_count": 35,
   "metadata": {
    "collapsed": true
   },
   "outputs": [],
   "source": [
    "j = 0\n",
    "max_j = len(P_1) - 1"
   ]
  },
  {
   "cell_type": "code",
   "execution_count": 36,
   "metadata": {
    "collapsed": false
   },
   "outputs": [
    {
     "name": "stdout",
     "output_type": "stream",
     "text": [
      "[1, 2, 3, 4, 5]\n",
      "[7, 8, 9, 10]\n",
      "No avanzo\n",
      "0 6 1\n",
      "No avanzo\n",
      "1 5 2\n",
      "No avanzo\n",
      "2 4 3\n",
      "No avanzo\n",
      "3 3 4\n",
      "No avanzo\n",
      "4 2 5\n"
     ]
    }
   ],
   "source": [
    "P_0 = P[0]\n",
    "print P_0\n",
    "P_1 = P[1]\n",
    "print P_1\n",
    "P_0_vs_P_1 = list(P_0) # O(len(P_0)) < O(len(P))\n",
    "#print P_0_vs_P_1\n",
    "P_1_best_keys = list(P_0) # O(len(P_0)) < O(len(P))\n",
    "#print P_1_best_keys\n",
    "\n",
    "for k in xrange(len(P_0)): # O(len(P))\n",
    "    while j < max_j:\n",
    "        v = P_0[k]\n",
    "        P_0_vs_P_1[k] = abs(v-P_1[j])\n",
    "        Q[k] = j\n",
    "        Rn = abs(v-P_1[j+1])\n",
    "        if Rn < P_0_vs_P_1[k]:\n",
    "            print \"P_0_vs_P_1[k] = %s, Rn = %s\"%(P_0_vs_P_1[k],Rn)\n",
    "            print \"P_0[%s]=%s\"%(k,P_0[k])\n",
    "            print \"P_1[%s]=%s\"%(j,P_1[j])\n",
    "            print \"P_1[%s]=%s\"%(j+1,P_1[j+1])\n",
    "            print \"P_0_vs_P_1[%s]=%s\"%(k,P_0_vs_P_1[k])\n",
    "            print \"Avanzo\"\n",
    "            j+=1\n",
    "        else:\n",
    "            print \"No avanzo\"\n",
    "            break\n",
    "    print k, P_0_vs_P_1[k], P_1_best_keys[k]"
   ]
  },
  {
   "cell_type": "code",
   "execution_count": 37,
   "metadata": {
    "collapsed": false
   },
   "outputs": [
    {
     "name": "stdout",
     "output_type": "stream",
     "text": [
      "2 3 dist=4\n"
     ]
    }
   ],
   "source": [
    "mini = P_0_vs_P_1[0]\n",
    "for k in xrange(len(P_0_vs_P_1)-1):\n",
    "    mini = P_0_vs_P_1[k+1] if P_0_vs_P_1[k+1]<mini else mini\n",
    "print mini, P_1_best_keys[mini], \"dist=%s\"%P_0_vs_P_1[mini]"
   ]
  },
  {
   "cell_type": "code",
   "execution_count": 40,
   "metadata": {
    "collapsed": false
   },
   "outputs": [
    {
     "name": "stdout",
     "output_type": "stream",
     "text": [
      "[1, 2, 3, 4, 5]\n",
      "[7, 8, 9, 10]\n",
      "[6, 5, 4, 3, 2]\n",
      "[1, 2, 3, 4, 5]\n"
     ]
    }
   ],
   "source": [
    "print P_0\n",
    "print P_1\n",
    "print P_0_vs_P_1\n",
    "print P_1_best_keys"
   ]
  },
  {
   "cell_type": "code",
   "execution_count": null,
   "metadata": {
    "collapsed": true
   },
   "outputs": [],
   "source": []
  }
 ],
 "metadata": {
  "kernelspec": {
   "display_name": "Python 2",
   "language": "python",
   "name": "python2"
  },
  "language_info": {
   "codemirror_mode": {
    "name": "ipython",
    "version": 2
   },
   "file_extension": ".py",
   "mimetype": "text/x-python",
   "name": "python",
   "nbconvert_exporter": "python",
   "pygments_lexer": "ipython2",
   "version": "2.7.11"
  }
 },
 "nbformat": 4,
 "nbformat_minor": 0
}
